{
 "cells": [
  {
   "cell_type": "code",
   "execution_count": 1,
   "metadata": {},
   "outputs": [],
   "source": [
    "import numpy as np\n",
    "import h5py as h5\n",
    "import matplotlib.pyplot as plt"
   ]
  },
  {
   "cell_type": "code",
   "execution_count": 2,
   "metadata": {},
   "outputs": [],
   "source": [
    "from src.nbody.main import NBodySimulation\n",
    "import src.nbody.plot_utils as pu"
   ]
  },
  {
   "cell_type": "code",
   "execution_count": 3,
   "metadata": {},
   "outputs": [],
   "source": [
    "ic_file = \"./ics/gal_5e3.hdf5\""
   ]
  },
  {
   "cell_type": "code",
   "execution_count": 4,
   "metadata": {},
   "outputs": [
    {
     "name": "stdout",
     "output_type": "stream",
     "text": [
      "['Masses', 'Positions', 'Velocities']\n"
     ]
    }
   ],
   "source": [
    "with h5.File(ic_file, \"r\") as hf:\n",
    "    print(list(hf[\"Bodies\"]))"
   ]
  },
  {
   "cell_type": "code",
   "execution_count": 5,
   "metadata": {},
   "outputs": [],
   "source": [
    "path_ics = ic_file\n",
    "output_folder = \"./outputs/\""
   ]
  },
  {
   "cell_type": "markdown",
   "metadata": {},
   "source": [
    "### Set the Gravitational constant below:"
   ]
  },
  {
   "cell_type": "code",
   "execution_count": 6,
   "metadata": {},
   "outputs": [],
   "source": [
    "G = 1"
   ]
  },
  {
   "cell_type": "code",
   "execution_count": null,
   "metadata": {},
   "outputs": [
    {
     "name": "stdout",
     "output_type": "stream",
     "text": [
      "Estimated time: 00h 00m 26s\n",
      "Mean time per step: 2.65e-02 s\n",
      "100.00%\n",
      "Elapsed time: 27.66 s\n"
     ]
    }
   ],
   "source": [
    "path_output = output_folder + 'output.hdf5'\n",
    "\n",
    "e = 0.01\n",
    "T = 3.0\n",
    "dt = 5e-4\n",
    "num_snapshots = 600\n",
    "\n",
    "Sim = NBodySimulation(path_ics, path_output)\n",
    "\n",
    "Sim.set_time(T, dt, snapshots=num_snapshots)\n",
    "# Sim.set_time_NFW_off(0.5 * T)  # Turn off the NFW profile at half the runtime\n",
    "\n",
    "# Sim.set_integrator(\"RK4\") \n",
    "Sim.set_integrator(\"Euler\")\n",
    "# Sim.set_integrator(\"Symplectic\")\n",
    "\n",
    "Sim.estimate_runtime(3)  # We get a runtime estimation for 3 snapshots; Does not work for RK4 yet\n",
    "Sim.run_simulation(e=e, G=G)"
   ]
  },
  {
   "cell_type": "markdown",
   "metadata": {},
   "source": [
    "## This creates and saves frames to disk. These are then used to create simualtion video."
   ]
  },
  {
   "cell_type": "code",
   "execution_count": 8,
   "metadata": {},
   "outputs": [
    {
     "name": "stdout",
     "output_type": "stream",
     "text": [
      "Save images time: 24.07 s\n"
     ]
    }
   ],
   "source": [
    "pu.make_frames(path_output, \n",
    "               marker_size=0.1,\n",
    "                  )"
   ]
  },
  {
   "cell_type": "code",
   "execution_count": 9,
   "metadata": {},
   "outputs": [
    {
     "name": "stdout",
     "output_type": "stream",
     "text": [
      "Video saved to outputs/output_video.mp4\n"
     ]
    }
   ],
   "source": [
    "frame_folder = 'outputs/frames/'\n",
    "output_video_path = 'outputs/output_video.mp4'\n",
    "pu.create_video_from_frames(frame_folder, output_video_path, frame_rate=30, resolution=(400, 400))"
   ]
  },
  {
   "cell_type": "markdown",
   "metadata": {},
   "source": [
    "## Here we are getting the simulation data output. Convince yourself that the shape and dimensions of these arrrays make sense."
   ]
  },
  {
   "cell_type": "code",
   "execution_count": 10,
   "metadata": {},
   "outputs": [],
   "source": [
    "POS_R, VEL_R, MASS, TIME = Sim.get_output()"
   ]
  },
  {
   "cell_type": "code",
   "execution_count": 11,
   "metadata": {},
   "outputs": [
    {
     "data": {
      "text/plain": [
       "(600, 5000, 3)"
      ]
     },
     "execution_count": 11,
     "metadata": {},
     "output_type": "execute_result"
    }
   ],
   "source": [
    "VEL_R.shape"
   ]
  },
  {
   "cell_type": "markdown",
   "metadata": {},
   "source": [
    "## Q. Now, make a radial number distribution of the particles in the last snapshot."
   ]
  },
  {
   "cell_type": "markdown",
   "metadata": {},
   "source": [
    "## Q. Plot the circular velocity vs radius. This is known as the rotation curve of the galaxy."
   ]
  },
  {
   "cell_type": "markdown",
   "metadata": {},
   "source": [
    "## Repeat with and without the DM halo potential."
   ]
  },
  {
   "cell_type": "code",
   "execution_count": null,
   "metadata": {},
   "outputs": [],
   "source": []
  }
 ],
 "metadata": {
  "kernelspec": {
   "display_name": "work",
   "language": "python",
   "name": "python3"
  },
  "language_info": {
   "codemirror_mode": {
    "name": "ipython",
    "version": 3
   },
   "file_extension": ".py",
   "mimetype": "text/x-python",
   "name": "python",
   "nbconvert_exporter": "python",
   "pygments_lexer": "ipython3",
   "version": "3.12.4"
  }
 },
 "nbformat": 4,
 "nbformat_minor": 2
}
