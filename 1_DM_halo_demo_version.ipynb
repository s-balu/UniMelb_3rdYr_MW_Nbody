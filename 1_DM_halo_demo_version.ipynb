{
 "cells": [
  {
   "cell_type": "code",
   "execution_count": 1,
   "metadata": {},
   "outputs": [],
   "source": [
    "import numpy as np\n",
    "import h5py as h5\n",
    "import matplotlib.pyplot as plt"
   ]
  },
  {
   "cell_type": "code",
   "execution_count": 2,
   "metadata": {},
   "outputs": [],
   "source": [
    "from src.nbody.main import NBodySimulation\n",
    "import src.nbody.plot_utils as pu"
   ]
  },
  {
   "cell_type": "code",
   "execution_count": 41,
   "metadata": {},
   "outputs": [],
   "source": [
    "ic_file = \"./ics/gal_1e4.hdf5\""
   ]
  },
  {
   "cell_type": "code",
   "execution_count": 42,
   "metadata": {},
   "outputs": [
    {
     "name": "stdout",
     "output_type": "stream",
     "text": [
      "['Masses', 'Positions', 'Velocities']\n"
     ]
    }
   ],
   "source": [
    "with h5.File(ic_file, \"r\") as hf:\n",
    "    print(list(hf[\"Bodies\"]))"
   ]
  },
  {
   "cell_type": "code",
   "execution_count": 43,
   "metadata": {},
   "outputs": [],
   "source": [
    "path_ics = ic_file\n",
    "output_folder = \"./outputs/\""
   ]
  },
  {
   "cell_type": "code",
   "execution_count": 44,
   "metadata": {},
   "outputs": [],
   "source": [
    "G = 4.30091e-6"
   ]
  },
  {
   "cell_type": "code",
   "execution_count": 57,
   "metadata": {},
   "outputs": [
    {
     "name": "stdout",
     "output_type": "stream",
     "text": [
      "Estimated time: 00h 13m 26s\n",
      "Mean time per step: 1.34e-01 s\n",
      "100.00%\n",
      "Elapsed time: 595.58 s\n"
     ]
    }
   ],
   "source": [
    "path_output = output_folder + 'output.hdf5'\n",
    "\n",
    "e = 0.01\n",
    "T = 3.0\n",
    "dt = 5e-4\n",
    "num_snapshots = 600\n",
    "\n",
    "Sim = NBodySimulation(path_ics, path_output)\n",
    "\n",
    "Sim.set_time(T, dt, snapshots=num_snapshots)\n",
    "# Sim.set_time_NFW_off(0.5 * T)  # Turn off the NFW profile at half the runtime\n",
    "\n",
    "# Sim.set_integrator(\"RK4\")\n",
    "Sim.set_integrator(\"Euler\")\n",
    "Sim.set_integrator(\"Symplectic\")\n",
    "\n",
    "Sim.estimate_runtime(3)  # We get a runtime estimation for 3 snapshots\n",
    "Sim.run_simulation(e=e, G=G)"
   ]
  },
  {
   "cell_type": "code",
   "execution_count": 58,
   "metadata": {},
   "outputs": [
    {
     "name": "stdout",
     "output_type": "stream",
     "text": [
      "Save images time: 23.67 s\n"
     ]
    }
   ],
   "source": [
    "pu.make_frames(path_output, \n",
    "               marker_size=0.2,\n",
    "                  )"
   ]
  },
  {
   "cell_type": "code",
   "execution_count": 59,
   "metadata": {},
   "outputs": [
    {
     "name": "stdout",
     "output_type": "stream",
     "text": [
      "Video saved to outputs/output_video.mp4\n"
     ]
    }
   ],
   "source": [
    "# Example usage\n",
    "frame_folder = 'outputs/frames/'\n",
    "output_video_path = 'outputs/output_video.mp4'\n",
    "pu.create_video_from_frames(frame_folder, output_video_path, frame_rate=30, resolution=(400, 400))"
   ]
  },
  {
   "cell_type": "code",
   "execution_count": 60,
   "metadata": {},
   "outputs": [],
   "source": [
    "POS_R, VEL_R, MASS, TIME = Sim.get_output()\n",
    "\n",
    "# POS_R = POS_R.reshape(600,3)\n",
    "# VEL_R = VEL_R.reshape(600,3)"
   ]
  },
  {
   "cell_type": "code",
   "execution_count": 61,
   "metadata": {},
   "outputs": [
    {
     "data": {
      "text/plain": [
       "(600, 10000, 3)"
      ]
     },
     "execution_count": 61,
     "metadata": {},
     "output_type": "execute_result"
    }
   ],
   "source": [
    "VEL_R.shape"
   ]
  },
  {
   "cell_type": "code",
   "execution_count": 62,
   "metadata": {},
   "outputs": [],
   "source": [
    "# from numba import njit, prange\n",
    "\n",
    "# # Conversion factors\n",
    "# # kpc_to_m = np.float64(3.0857e19)  # 1 kpc = 3.0857e19 meters\n",
    "# # kmps_to_mps = 1e3     # 1 km/s = 1e3 meters/second\n",
    "# # Msun_to_kg = np.float64(1.9885e30)  # 1 Solar Mass = 1.9885e30 kg\n",
    "\n",
    "# m=MASS[0] #* Msun_to_kg\n",
    "\n",
    "# G = 4.302e-6\n",
    "\n",
    "# # Convert G from original units to SI units\n",
    "# # G_SI = np.float64(6.67430e-11)  # m^3 kg^-1 s^-2\n",
    "\n",
    "# Gm2 = np.float64(G * m**2)  # Precompute G * m^2\n",
    "\n",
    "# # POS_R = POS_R * kpc_to_m\n",
    "# # VEL_R = VEL_R * kmps_to_mps\n",
    "\n",
    "# # Calculate the kinetic energy T(t)\n",
    "# vel_squared = np.sum(VEL_R**2, axis=2)  # v_i^2 for each particle\n",
    "# T_t = 0.5 * m * np.sum(vel_squared, axis=1)  # Sum over all particles\n",
    "\n",
    "\n",
    "# @njit(parallel=True, fastmath=True, cache=False)\n",
    "# def calculate_potential_energy(positions, Gm2):\n",
    "#     num_timesteps = positions.shape[0]\n",
    "#     num_particles = positions.shape[1]\n",
    "#     U_t = np.zeros(num_timesteps)\n",
    "    \n",
    "#     for t in prange(num_timesteps):\n",
    "#         U = 0.0\n",
    "#         for i in range(num_particles):\n",
    "#             for j in range(i + 1, num_particles):\n",
    "#                 dx = positions[t, i, 0] - positions[t, j, 0]\n",
    "#                 dy = positions[t, i, 1] - positions[t, j, 1]\n",
    "#                 dz = positions[t, i, 2] - positions[t, j, 2]\n",
    "#                 r_ij = np.sqrt(dx * dx + dy * dy + dz * dz)  # Manually compute distance\n",
    "#                 if r_ij > 0:  # Avoid division by zero\n",
    "#                     U -= Gm2 / r_ij\n",
    "#         U_t[t] = U\n",
    "        \n",
    "#     return U_t\n",
    "\n",
    "# # Potential energy calculation using Numba\n",
    "# U_t = calculate_potential_energy(POS_R, Gm2)\n",
    "\n",
    "# # Calculate the virial quantity 2T + U\n",
    "# virial_quantity = (2 * T_t) + np.abs(U_t)\n",
    "\n",
    "# # Plotting the result\n",
    "# plt.figure(figsize=(10, 6))\n",
    "# plt.plot(virial_quantity, label=r\"$2T + U$\", color='b')\n",
    "# # plt.axhline(1, color='r', linestyle='--', label=\"Equilibrium Line\")\n",
    "# plt.xlabel(\"Time Step\")\n",
    "# plt.ylabel(r\"$2T / U$\")\n",
    "# # plt.title(\"Virial Theorem Verification\")\n",
    "# plt.legend()\n",
    "# plt.grid(True)\n",
    "# plt.show()"
   ]
  },
  {
   "cell_type": "code",
   "execution_count": 63,
   "metadata": {},
   "outputs": [
    {
     "data": {
      "text/plain": [
       "(10000, 3)"
      ]
     },
     "execution_count": 63,
     "metadata": {},
     "output_type": "execute_result"
    }
   ],
   "source": [
    "POS_R[-1,:,:].shape"
   ]
  },
  {
   "cell_type": "code",
   "execution_count": 64,
   "metadata": {},
   "outputs": [],
   "source": [
    "x = POS_R[-1,:,0]\n",
    "y = POS_R[-1,:,1]\n",
    "z = POS_R[-1,:,2]\n"
   ]
  },
  {
   "cell_type": "code",
   "execution_count": 65,
   "metadata": {},
   "outputs": [],
   "source": [
    "# POS_R = POS_R[-1,:,:]\n",
    "# \n",
    "# VEL_R = VEL_R[-1,:,:]\n"
   ]
  },
  {
   "cell_type": "code",
   "execution_count": 66,
   "metadata": {},
   "outputs": [],
   "source": [
    "# counts, rbins = np.histogram(np.sqrt(x*x + y*y + z*z), bins=100)\n",
    "c, r = np.histogram(np.sqrt(x*x + y*y + z*z), bins=20)"
   ]
  },
  {
   "cell_type": "code",
   "execution_count": 67,
   "metadata": {},
   "outputs": [
    {
     "data": {
      "image/png": "[encoded data removed]",
      "text/plain": [
       "<Figure size 640x480 with 1 Axes>"
      ]
     },
     "metadata": {},
     "output_type": "display_data"
    }
   ],
   "source": [
    "plt.plot(0.5*(r[1:]+r[:-1]),c)\n",
    "plt.yscale(\"log\")\n",
    "plt.xscale(\"log\")\n",
    "# plt.xlim(0,15)"
   ]
  },
  {
   "cell_type": "code",
   "execution_count": 68,
   "metadata": {},
   "outputs": [
    {
     "name": "stderr",
     "output_type": "stream",
     "text": [
      "/Users/balu/UniMelb_3rdYr_MW_Nbody/.venv/lib/python3.12/site-packages/numpy/_core/fromnumeric.py:3596: RuntimeWarning: Mean of empty slice.\n",
      "  return _methods._mean(a, axis=axis, dtype=dtype,\n",
      "/Users/balu/UniMelb_3rdYr_MW_Nbody/.venv/lib/python3.12/site-packages/numpy/_core/_methods.py:138: RuntimeWarning: invalid value encountered in scalar divide\n",
      "  ret = ret.dtype.type(ret / rcount)\n"
     ]
    },
    {
     "data": {
      "image/png": "[encoded data removed]",
      "text/plain": [
       "<Figure size 1000x600 with 1 Axes>"
      ]
     },
     "metadata": {},
     "output_type": "display_data"
    }
   ],
   "source": [
    "# Calculate radial distances from the center (assuming center at origin)\n",
    "r = np.sqrt(np.sum(POS_R[-1]**2, axis=1))  # shape (10000,)\n",
    "\n",
    "# Calculate circular (tangential) velocities\n",
    "v_circ = np.sqrt(np.sum(VEL_R[-1]**2, axis=1))  # shape (10000,)\n",
    "\n",
    "# Bin the radial distances\n",
    "radial_bins = np.linspace(0, np.max(r), 100)  # 50 bins from 0 to max radial distance\n",
    "radial_bin_centers = 0.5 * (radial_bins[:-1] + radial_bins[1:])\n",
    "v_circ_avg = np.zeros_like(radial_bin_centers)\n",
    "\n",
    "# Calculate average circular velocity in each radial bin\n",
    "for i in range(len(radial_bin_centers)):\n",
    "    in_bin = (r >= radial_bins[i]) & (r < radial_bins[i+1])\n",
    "    v_circ_avg[i] = np.mean(v_circ[in_bin])\n",
    "\n",
    "# Plot the rotation curve\n",
    "plt.figure(figsize=(10, 6))\n",
    "plt.plot(radial_bin_centers, v_circ_avg, 'o', color='blue')  # converting to kpc and km/s for plot\n",
    "plt.ylim(0,200)\n",
    "plt.xlim(0,100)\n",
    "plt.xlabel('Radial Distance (kpc)')\n",
    "plt.ylabel('Circular Velocity (km/s)')\n",
    "plt.title('Rotation Curve')\n",
    "plt.grid(True)\n",
    "plt.show()"
   ]
  },
  {
   "cell_type": "code",
   "execution_count": 69,
   "metadata": {},
   "outputs": [
    {
     "data": {
      "text/plain": [
       "(10000,)"
      ]
     },
     "execution_count": 69,
     "metadata": {},
     "output_type": "execute_result"
    }
   ],
   "source": [
    "np.sum(POS_R[-1]**2, axis=1).shape"
   ]
  },
  {
   "cell_type": "code",
   "execution_count": null,
   "metadata": {},
   "outputs": [],
   "source": []
  }
 ],
 "metadata": {
  "kernelspec": {
   "display_name": ".venv",
   "language": "python",
   "name": "python3"
  },
  "language_info": {
   "codemirror_mode": {
    "name": "ipython",
    "version": 3
   },
   "file_extension": ".py",
   "mimetype": "text/x-python",
   "name": "python",
   "nbconvert_exporter": "python",
   "pygments_lexer": "ipython3",
   "version": "3.12.4"
  }
 },
 "nbformat": 4,
 "nbformat_minor": 2
}
