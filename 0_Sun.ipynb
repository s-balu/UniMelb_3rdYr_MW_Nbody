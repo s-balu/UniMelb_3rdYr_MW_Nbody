{
 "cells": [
  {
   "cell_type": "code",
   "execution_count": 2,
   "metadata": {},
   "outputs": [],
   "source": [
    "import numpy as np\n",
    "import h5py as h5\n",
    "import matplotlib.pyplot as plt"
   ]
  },
  {
   "cell_type": "code",
   "execution_count": 3,
   "metadata": {},
   "outputs": [],
   "source": [
    "from src.nbody.main import NBodySimulation"
   ]
  },
  {
   "cell_type": "code",
   "execution_count": 4,
   "metadata": {},
   "outputs": [],
   "source": [
    "path_ics = \"./ics/sun.hdf5\" #initial conditions file"
   ]
  },
  {
   "cell_type": "markdown",
   "metadata": {},
   "source": [
    "Here we are going to explore how the IC file data is structured. The code below shows that the file contains two data groups: \n",
    "\n",
    "1. `Bodies`: containing the `Masses`, `Positions` and `Velocities` of the particles.     \n",
    "2. `Header`: which looks like it is empty. But you see that it has metadata about the simulation such as the number of `Dimensions` (=3) as well as the number of particles `N`(=1 as it is only the Sun at the moment).\n",
    "\n",
    "### Q1: Can you figure out the shape and values stored in the datasets that are in the `Bodies` group? Do they make sense? What units do you think they are in?"
   ]
  },
  {
   "cell_type": "code",
   "execution_count": null,
   "metadata": {},
   "outputs": [],
   "source": [
    "with h5.File(path_ics, \"r\") as hf:\n",
    "    \n",
    "    print(hf.keys())\n",
    "    \n",
    "    for key in hf.keys():\n",
    "        print(key, hf[key].keys())\n",
    "    \n",
    "    for key in hf.keys():\n",
    "        print(list(hf[key].attrs))\n",
    "    \n",
    "    for key in hf.keys():\n",
    "        for attr in hf[key].attrs:\n",
    "            print(hf[key].attrs[attr])"
   ]
  },
  {
   "cell_type": "code",
   "execution_count": 6,
   "metadata": {},
   "outputs": [],
   "source": [
    "output_folder = \"./outputs/\""
   ]
  },
  {
   "cell_type": "markdown",
   "metadata": {},
   "source": [
    "This is the Newton's gravitational constant. But it seems to be in a different unit system from the SI!\n",
    "\n",
    "### Q2: Figure out the units of G. Using the units that you have from Q1, derive this value for the G. Can you think of a reason why we are setting up our simulation in these units? Justify your answer with an order-of-magnitude problem. (you might need to lookup `integer overflow errors`)"
   ]
  },
  {
   "cell_type": "code",
   "execution_count": 7,
   "metadata": {},
   "outputs": [],
   "source": [
    "G = 4.30091e-6"
   ]
  },
  {
   "cell_type": "markdown",
   "metadata": {},
   "source": [
    "HDF5 file to store our simulation output. Remember to rename as you run different simulations so that the file does not get over-written!"
   ]
  },
  {
   "cell_type": "code",
   "execution_count": 8,
   "metadata": {},
   "outputs": [],
   "source": [
    "path_output = output_folder + 'output.hdf5'"
   ]
  },
  {
   "cell_type": "markdown",
   "metadata": {},
   "source": [
    "Here we set-up parameters related to the numerical accuracy of our simulations:\n",
    "1. `e`: the softening length\n",
    "2. `dt`: timestep $\\Delta t$ for integrating the orbits."
   ]
  },
  {
   "cell_type": "markdown",
   "metadata": {},
   "source": [
    "### Q3: What is the physical value of `e`? "
   ]
  },
  {
   "cell_type": "code",
   "execution_count": 9,
   "metadata": {},
   "outputs": [],
   "source": [
    "e = 0.01 # softening length. \n",
    "dt = 5e-4 #time step."
   ]
  },
  {
   "cell_type": "markdown",
   "metadata": {},
   "source": [
    "`T` is the total simulation time. But we still haven't figured out the internal unit for time in our simulations.\n",
    "\n",
    "### Q4: Figure out the internal unit of time in our simulations.\n",
    "\n",
    "`num_snaphots` is the number of outputs that we want to save to our output file. **Note**: This is not the same as the number of time steps in our simulations.\n",
    "\n",
    "### Q5: How many timesteps do you expect for your simulation parameters?"
   ]
  },
  {
   "cell_type": "code",
   "execution_count": 10,
   "metadata": {},
   "outputs": [],
   "source": [
    "T = 2\n",
    "num_snapshots = 600"
   ]
  },
  {
   "cell_type": "code",
   "execution_count": null,
   "metadata": {},
   "outputs": [],
   "source": [
    "\n",
    "Sim = NBodySimulation(path_ics, path_output)\n",
    "\n",
    "Sim.set_time(T, dt, snapshots=num_snapshots)\n",
    "# Sim.set_time_NFW_off(0.4)  # Turn off  the NFW profile at approx t=1.25\n",
    "\n",
    "# Sim.set_integrator(\"RK4\")\n",
    "Sim.set_integrator(\"Euler\")\n",
    "Sim.set_integrator(\"Symplectic\")\n",
    "\n",
    "# Sim.estimate_runtime(num_steps=3)  # TODO: bugs out for RK4.\n",
    "Sim.run_simulation(e=e, G=G)"
   ]
  },
  {
   "cell_type": "code",
   "execution_count": 12,
   "metadata": {},
   "outputs": [],
   "source": [
    "POS_R, VEL_R, MASS, TIME = Sim.get_output()"
   ]
  },
  {
   "cell_type": "markdown",
   "metadata": {},
   "source": [
    "### Q6: Explore the shapes of these variables. As an example, the one for POS_R has been done for you below."
   ]
  },
  {
   "cell_type": "code",
   "execution_count": null,
   "metadata": {},
   "outputs": [],
   "source": [
    "POS_R.shape"
   ]
  },
  {
   "cell_type": "code",
   "execution_count": 14,
   "metadata": {},
   "outputs": [],
   "source": [
    "POS_R = POS_R.reshape(600, 3)\n",
    "\n",
    "VEL_R = VEL_R.reshape(600, 3)"
   ]
  },
  {
   "cell_type": "markdown",
   "metadata": {},
   "source": [
    "### Q7: Plot the orbit of the Sun about the center of the Milky Way. Remember to label your axes."
   ]
  },
  {
   "cell_type": "code",
   "execution_count": null,
   "metadata": {},
   "outputs": [],
   "source": [
    "fig, ax = plt.subplots()\n",
    "ax.plot(POS_R[:,0], POS_R[:,1])\n",
    "ax.scatter(0, 0, facecolors='none', edgecolors='black', s=80)\n",
    "ax.scatter(0, 0, marker=\"*\", edgecolors='black', s=35)\n",
    "ax.set_aspect(\"equal\")"
   ]
  },
  {
   "cell_type": "markdown",
   "metadata": {},
   "source": [
    "### Q8: Plot the variation of the distance of the Sun from the center of the Milky Way."
   ]
  },
  {
   "cell_type": "code",
   "execution_count": null,
   "metadata": {},
   "outputs": [],
   "source": [
    "r = np.sqrt(POS_R[:,0]**2 + POS_R[:,1]**2)\n",
    "fig, ax = plt.subplots()\n",
    "ax.plot(TIME, r)"
   ]
  },
  {
   "cell_type": "markdown",
   "metadata": {},
   "source": [
    "### Q9: Plot the variation of the speed of the Sun about the center of the Milky Way."
   ]
  },
  {
   "cell_type": "code",
   "execution_count": null,
   "metadata": {},
   "outputs": [],
   "source": [
    "r = np.sqrt(VEL_R[:,0]**2 + VEL_R[:,1]**2)\n",
    "fig, ax = plt.subplots()\n",
    "ax.plot(TIME, r)"
   ]
  },
  {
   "cell_type": "markdown",
   "metadata": {},
   "source": [
    "## Q10: Now do the same analyses for the other methods (`Euler` & `Symplectic`). Compare and contrast these methods and their accuracy. You can plot them all in the same plot if you want to. \n",
    "\n",
    "## Q11: Also keep track of how long the simulations take to run. Can you explain why we simulators would prefer `Symplectic` integration methods?\n",
    "\n",
    "## Q12: You should also explore different values for softening `e` and the timestep `dt`."
   ]
  },
  {
   "cell_type": "markdown",
   "metadata": {},
   "source": []
  }
 ],
 "metadata": {
  "kernelspec": {
   "display_name": "work",
   "language": "python",
   "name": "python3"
  },
  "language_info": {
   "codemirror_mode": {
    "name": "ipython",
    "version": 3
   },
   "file_extension": ".py",
   "mimetype": "text/x-python",
   "name": "python",
   "nbconvert_exporter": "python",
   "pygments_lexer": "ipython3",
   "version": "3.12.4"
  }
 },
 "nbformat": 4,
 "nbformat_minor": 2
}
